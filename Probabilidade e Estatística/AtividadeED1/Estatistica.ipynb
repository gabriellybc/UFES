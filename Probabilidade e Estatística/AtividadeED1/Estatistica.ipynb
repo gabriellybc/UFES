{
  "nbformat": 4,
  "nbformat_minor": 0,
  "metadata": {
    "colab": {
      "name": "Estatistica.ipynb",
      "provenance": [],
      "collapsed_sections": [],
      "authorship_tag": "ABX9TyMsCGCwH7ZeYQZz8FjtXUH2",
      "include_colab_link": true
    },
    "kernelspec": {
      "name": "python3",
      "display_name": "Python 3"
    }
  },
  "cells": [
    {
      "cell_type": "markdown",
      "metadata": {
        "id": "view-in-github",
        "colab_type": "text"
      },
      "source": [
        "<a href=\"https://colab.research.google.com/github/gabriellybc/UFES/blob/main/Probabilidade%20e%20Estat%C3%ADstica/AtividadeED1/Estatistica.ipynb\" target=\"_parent\"><img src=\"https://colab.research.google.com/assets/colab-badge.svg\" alt=\"Open In Colab\"/></a>"
      ]
    },
    {
      "cell_type": "code",
      "metadata": {
        "id": "9sIzbMGTXSF8",
        "colab": {
          "base_uri": "https://localhost:8080/",
          "height": 204
        },
        "outputId": "f2257a9a-8b6e-4bdf-8a6d-e8affdcd1f69"
      },
      "source": [
        "import pandas as pd\n",
        "import matplotlib.pyplot as plt\n",
        "\n",
        " \n",
        "fonte = \"https://raw.githubusercontent.com/gabriellybc/UFES/main/Probabilidade%20e%20Estat%C3%ADstica/AtividadeED1/Gabrielly%20Barcelos%20Cariman%20-%20dados.csv\"\n",
        " \n",
        "dados = pd.read_csv(fonte)\n",
        "dados.head()"
      ],
      "execution_count": 1,
      "outputs": [
        {
          "output_type": "execute_result",
          "data": {
            "text/html": [
              "<div>\n",
              "<style scoped>\n",
              "    .dataframe tbody tr th:only-of-type {\n",
              "        vertical-align: middle;\n",
              "    }\n",
              "\n",
              "    .dataframe tbody tr th {\n",
              "        vertical-align: top;\n",
              "    }\n",
              "\n",
              "    .dataframe thead th {\n",
              "        text-align: right;\n",
              "    }\n",
              "</style>\n",
              "<table border=\"1\" class=\"dataframe\">\n",
              "  <thead>\n",
              "    <tr style=\"text-align: right;\">\n",
              "      <th></th>\n",
              "      <th>ID</th>\n",
              "      <th>V1</th>\n",
              "      <th>V2</th>\n",
              "      <th>V3</th>\n",
              "      <th>V4</th>\n",
              "      <th>V5</th>\n",
              "      <th>V6</th>\n",
              "      <th>V7</th>\n",
              "    </tr>\n",
              "  </thead>\n",
              "  <tbody>\n",
              "    <tr>\n",
              "      <th>0</th>\n",
              "      <td>1</td>\n",
              "      <td>Afonso Claudio</td>\n",
              "      <td>3764</td>\n",
              "      <td>205</td>\n",
              "      <td>33</td>\n",
              "      <td>94.0</td>\n",
              "      <td>6.4</td>\n",
              "      <td>5.0</td>\n",
              "    </tr>\n",
              "    <tr>\n",
              "      <th>1</th>\n",
              "      <td>2</td>\n",
              "      <td>Agua Doce do Norte</td>\n",
              "      <td>1781</td>\n",
              "      <td>106</td>\n",
              "      <td>12</td>\n",
              "      <td>98.7</td>\n",
              "      <td>6.1</td>\n",
              "      <td>4.2</td>\n",
              "    </tr>\n",
              "    <tr>\n",
              "      <th>2</th>\n",
              "      <td>3</td>\n",
              "      <td>Aguia Branca</td>\n",
              "      <td>1335</td>\n",
              "      <td>114</td>\n",
              "      <td>10</td>\n",
              "      <td>97.8</td>\n",
              "      <td>6.8</td>\n",
              "      <td>4.7</td>\n",
              "    </tr>\n",
              "    <tr>\n",
              "      <th>3</th>\n",
              "      <td>4</td>\n",
              "      <td>Alegre</td>\n",
              "      <td>3406</td>\n",
              "      <td>220</td>\n",
              "      <td>26</td>\n",
              "      <td>97.6</td>\n",
              "      <td>5.8</td>\n",
              "      <td>4.2</td>\n",
              "    </tr>\n",
              "    <tr>\n",
              "      <th>4</th>\n",
              "      <td>5</td>\n",
              "      <td>Alfredo Chaves</td>\n",
              "      <td>1706</td>\n",
              "      <td>134</td>\n",
              "      <td>22</td>\n",
              "      <td>98.6</td>\n",
              "      <td>6.3</td>\n",
              "      <td>5.1</td>\n",
              "    </tr>\n",
              "  </tbody>\n",
              "</table>\n",
              "</div>"
            ],
            "text/plain": [
              "   ID                  V1    V2   V3  V4    V5   V6   V7\n",
              "0   1      Afonso Claudio  3764  205  33  94.0  6.4  5.0\n",
              "1   2  Agua Doce do Norte  1781  106  12  98.7  6.1  4.2\n",
              "2   3        Aguia Branca  1335  114  10  97.8  6.8  4.7\n",
              "3   4              Alegre  3406  220  26  97.6  5.8  4.2\n",
              "4   5      Alfredo Chaves  1706  134  22  98.6  6.3  5.1"
            ]
          },
          "metadata": {
            "tags": []
          },
          "execution_count": 1
        }
      ]
    },
    {
      "cell_type": "code",
      "metadata": {
        "id": "iaA7-Et5dT7m"
      },
      "source": [
        "dados.shape\n",
        "ana1=[\"V6\"]\n",
        "ana2=[\"V7\"]"
      ],
      "execution_count": 2,
      "outputs": []
    },
    {
      "cell_type": "code",
      "metadata": {
        "id": "Aya-eCjUhDC5",
        "colab": {
          "base_uri": "https://localhost:8080/"
        },
        "outputId": "6614fc08-ea83-4117-ec63-914b3a9eded9"
      },
      "source": [
        "\n",
        "dados[ana1].value_counts().sort_index()\n",
        "tab1=dados[ana1].value_counts().sort_index()\n",
        "type(tab1)"
      ],
      "execution_count": 3,
      "outputs": [
        {
          "output_type": "execute_result",
          "data": {
            "text/plain": [
              "pandas.core.series.Series"
            ]
          },
          "metadata": {
            "tags": []
          },
          "execution_count": 3
        }
      ]
    },
    {
      "cell_type": "code",
      "metadata": {
        "id": "hr3S3qazeNWJ",
        "colab": {
          "base_uri": "https://localhost:8080/",
          "height": 450
        },
        "outputId": "08689700-0614-47b1-e99b-30ce40bbc1af"
      },
      "source": [
        "dados[[\"V6\",\"V7\"]]\n",
        "pd.DataFrame(dados[[\"V6\",\"V7\"]].value_counts().sort_index())"
      ],
      "execution_count": 4,
      "outputs": [
        {
          "output_type": "execute_result",
          "data": {
            "text/html": [
              "<div>\n",
              "<style scoped>\n",
              "    .dataframe tbody tr th:only-of-type {\n",
              "        vertical-align: middle;\n",
              "    }\n",
              "\n",
              "    .dataframe tbody tr th {\n",
              "        vertical-align: top;\n",
              "    }\n",
              "\n",
              "    .dataframe thead th {\n",
              "        text-align: right;\n",
              "    }\n",
              "</style>\n",
              "<table border=\"1\" class=\"dataframe\">\n",
              "  <thead>\n",
              "    <tr style=\"text-align: right;\">\n",
              "      <th></th>\n",
              "      <th></th>\n",
              "      <th>0</th>\n",
              "    </tr>\n",
              "    <tr>\n",
              "      <th>V6</th>\n",
              "      <th>V7</th>\n",
              "      <th></th>\n",
              "    </tr>\n",
              "  </thead>\n",
              "  <tbody>\n",
              "    <tr>\n",
              "      <th rowspan=\"2\" valign=\"top\">4.9</th>\n",
              "      <th>3.9</th>\n",
              "      <td>1</td>\n",
              "    </tr>\n",
              "    <tr>\n",
              "      <th>4.9</th>\n",
              "      <td>1</td>\n",
              "    </tr>\n",
              "    <tr>\n",
              "      <th>5.0</th>\n",
              "      <th>4.6</th>\n",
              "      <td>1</td>\n",
              "    </tr>\n",
              "    <tr>\n",
              "      <th>5.2</th>\n",
              "      <th>4.1</th>\n",
              "      <td>1</td>\n",
              "    </tr>\n",
              "    <tr>\n",
              "      <th>5.3</th>\n",
              "      <th>4.1</th>\n",
              "      <td>1</td>\n",
              "    </tr>\n",
              "    <tr>\n",
              "      <th>...</th>\n",
              "      <th>...</th>\n",
              "      <td>...</td>\n",
              "    </tr>\n",
              "    <tr>\n",
              "      <th>6.6</th>\n",
              "      <th>5.2</th>\n",
              "      <td>1</td>\n",
              "    </tr>\n",
              "    <tr>\n",
              "      <th rowspan=\"2\" valign=\"top\">6.7</th>\n",
              "      <th>5.3</th>\n",
              "      <td>1</td>\n",
              "    </tr>\n",
              "    <tr>\n",
              "      <th>5.7</th>\n",
              "      <td>1</td>\n",
              "    </tr>\n",
              "    <tr>\n",
              "      <th rowspan=\"2\" valign=\"top\">6.8</th>\n",
              "      <th>4.7</th>\n",
              "      <td>1</td>\n",
              "    </tr>\n",
              "    <tr>\n",
              "      <th>5.6</th>\n",
              "      <td>1</td>\n",
              "    </tr>\n",
              "  </tbody>\n",
              "</table>\n",
              "<p>64 rows × 1 columns</p>\n",
              "</div>"
            ],
            "text/plain": [
              "         0\n",
              "V6  V7    \n",
              "4.9 3.9  1\n",
              "    4.9  1\n",
              "5.0 4.6  1\n",
              "5.2 4.1  1\n",
              "5.3 4.1  1\n",
              "...     ..\n",
              "6.6 5.2  1\n",
              "6.7 5.3  1\n",
              "    5.7  1\n",
              "6.8 4.7  1\n",
              "    5.6  1\n",
              "\n",
              "[64 rows x 1 columns]"
            ]
          },
          "metadata": {
            "tags": []
          },
          "execution_count": 4
        }
      ]
    },
    {
      "cell_type": "code",
      "metadata": {
        "id": "_qjfWcdqgMCw",
        "colab": {
          "base_uri": "https://localhost:8080/"
        },
        "outputId": "32d01aa4-ee11-43b9-8d5d-25b78d24e375"
      },
      "source": [
        "dados[\"V6\"]"
      ],
      "execution_count": 5,
      "outputs": [
        {
          "output_type": "execute_result",
          "data": {
            "text/plain": [
              "0     6.4\n",
              "1     6.1\n",
              "2     6.8\n",
              "3     5.8\n",
              "4     6.3\n",
              "     ... \n",
              "73    5.3\n",
              "74    6.8\n",
              "75    6.6\n",
              "76    5.6\n",
              "77    5.6\n",
              "Name: V6, Length: 78, dtype: float64"
            ]
          },
          "metadata": {
            "tags": []
          },
          "execution_count": 5
        }
      ]
    },
    {
      "cell_type": "code",
      "metadata": {
        "id": "UHZuQjE0geBP",
        "colab": {
          "base_uri": "https://localhost:8080/"
        },
        "outputId": "896db280-37cb-4194-d7c2-cfdcc5888626"
      },
      "source": [
        "dados[\"V6\"].value_counts().sort_index()"
      ],
      "execution_count": 6,
      "outputs": [
        {
          "output_type": "execute_result",
          "data": {
            "text/plain": [
              "4.9     2\n",
              "5.0     1\n",
              "5.2     1\n",
              "5.3     1\n",
              "5.4     6\n",
              "5.5     4\n",
              "5.6     7\n",
              "5.7     5\n",
              "5.8    13\n",
              "5.9     6\n",
              "6.0     5\n",
              "6.1     3\n",
              "6.2     5\n",
              "6.3     5\n",
              "6.4     5\n",
              "6.5     3\n",
              "6.6     2\n",
              "6.7     2\n",
              "6.8     2\n",
              "Name: V6, dtype: int64"
            ]
          },
          "metadata": {
            "tags": []
          },
          "execution_count": 6
        }
      ]
    },
    {
      "cell_type": "code",
      "metadata": {
        "id": "1lVzhSHkfnU1",
        "colab": {
          "base_uri": "https://localhost:8080/",
          "height": 669
        },
        "outputId": "b123c681-a234-465b-caf8-c8887c9b526f"
      },
      "source": [
        "a6=pd.DataFrame(dados[\"V6\"].value_counts().sort_index())\n",
        "a6.rename(columns={'V6':'Frequência'},inplace=True)\n",
        "a6['Frequência relativa (%)'] = a6['Frequência']\n",
        "total=sum(a6['Frequência'])\n",
        "total\n",
        "a6['Frequência relativa (%)']=(a6['Frequência']*100)/total\n",
        "a6['Frequência acumulada (%)']=a6['Frequência relativa (%)'].cumsum()\n",
        "p6=sum(a6['Frequência relativa (%)'])\n",
        "a6.loc[\"Total\"]=[total,p6,\"-\"]\n",
        "a6.to_excel(\"Tabela_de_frequecia_V6.xlsx\")\n",
        "a6"
      ],
      "execution_count": 7,
      "outputs": [
        {
          "output_type": "execute_result",
          "data": {
            "text/html": [
              "<div>\n",
              "<style scoped>\n",
              "    .dataframe tbody tr th:only-of-type {\n",
              "        vertical-align: middle;\n",
              "    }\n",
              "\n",
              "    .dataframe tbody tr th {\n",
              "        vertical-align: top;\n",
              "    }\n",
              "\n",
              "    .dataframe thead th {\n",
              "        text-align: right;\n",
              "    }\n",
              "</style>\n",
              "<table border=\"1\" class=\"dataframe\">\n",
              "  <thead>\n",
              "    <tr style=\"text-align: right;\">\n",
              "      <th></th>\n",
              "      <th>Frequência</th>\n",
              "      <th>Frequência relativa (%)</th>\n",
              "      <th>Frequência acumulada (%)</th>\n",
              "    </tr>\n",
              "  </thead>\n",
              "  <tbody>\n",
              "    <tr>\n",
              "      <th>4.9</th>\n",
              "      <td>2</td>\n",
              "      <td>2.564103</td>\n",
              "      <td>2.5641</td>\n",
              "    </tr>\n",
              "    <tr>\n",
              "      <th>5.0</th>\n",
              "      <td>1</td>\n",
              "      <td>1.282051</td>\n",
              "      <td>3.84615</td>\n",
              "    </tr>\n",
              "    <tr>\n",
              "      <th>5.2</th>\n",
              "      <td>1</td>\n",
              "      <td>1.282051</td>\n",
              "      <td>5.12821</td>\n",
              "    </tr>\n",
              "    <tr>\n",
              "      <th>5.3</th>\n",
              "      <td>1</td>\n",
              "      <td>1.282051</td>\n",
              "      <td>6.41026</td>\n",
              "    </tr>\n",
              "    <tr>\n",
              "      <th>5.4</th>\n",
              "      <td>6</td>\n",
              "      <td>7.692308</td>\n",
              "      <td>14.1026</td>\n",
              "    </tr>\n",
              "    <tr>\n",
              "      <th>5.5</th>\n",
              "      <td>4</td>\n",
              "      <td>5.128205</td>\n",
              "      <td>19.2308</td>\n",
              "    </tr>\n",
              "    <tr>\n",
              "      <th>5.6</th>\n",
              "      <td>7</td>\n",
              "      <td>8.974359</td>\n",
              "      <td>28.2051</td>\n",
              "    </tr>\n",
              "    <tr>\n",
              "      <th>5.7</th>\n",
              "      <td>5</td>\n",
              "      <td>6.410256</td>\n",
              "      <td>34.6154</td>\n",
              "    </tr>\n",
              "    <tr>\n",
              "      <th>5.8</th>\n",
              "      <td>13</td>\n",
              "      <td>16.666667</td>\n",
              "      <td>51.2821</td>\n",
              "    </tr>\n",
              "    <tr>\n",
              "      <th>5.9</th>\n",
              "      <td>6</td>\n",
              "      <td>7.692308</td>\n",
              "      <td>58.9744</td>\n",
              "    </tr>\n",
              "    <tr>\n",
              "      <th>6.0</th>\n",
              "      <td>5</td>\n",
              "      <td>6.410256</td>\n",
              "      <td>65.3846</td>\n",
              "    </tr>\n",
              "    <tr>\n",
              "      <th>6.1</th>\n",
              "      <td>3</td>\n",
              "      <td>3.846154</td>\n",
              "      <td>69.2308</td>\n",
              "    </tr>\n",
              "    <tr>\n",
              "      <th>6.2</th>\n",
              "      <td>5</td>\n",
              "      <td>6.410256</td>\n",
              "      <td>75.641</td>\n",
              "    </tr>\n",
              "    <tr>\n",
              "      <th>6.3</th>\n",
              "      <td>5</td>\n",
              "      <td>6.410256</td>\n",
              "      <td>82.0513</td>\n",
              "    </tr>\n",
              "    <tr>\n",
              "      <th>6.4</th>\n",
              "      <td>5</td>\n",
              "      <td>6.410256</td>\n",
              "      <td>88.4615</td>\n",
              "    </tr>\n",
              "    <tr>\n",
              "      <th>6.5</th>\n",
              "      <td>3</td>\n",
              "      <td>3.846154</td>\n",
              "      <td>92.3077</td>\n",
              "    </tr>\n",
              "    <tr>\n",
              "      <th>6.6</th>\n",
              "      <td>2</td>\n",
              "      <td>2.564103</td>\n",
              "      <td>94.8718</td>\n",
              "    </tr>\n",
              "    <tr>\n",
              "      <th>6.7</th>\n",
              "      <td>2</td>\n",
              "      <td>2.564103</td>\n",
              "      <td>97.4359</td>\n",
              "    </tr>\n",
              "    <tr>\n",
              "      <th>6.8</th>\n",
              "      <td>2</td>\n",
              "      <td>2.564103</td>\n",
              "      <td>100</td>\n",
              "    </tr>\n",
              "    <tr>\n",
              "      <th>Total</th>\n",
              "      <td>78</td>\n",
              "      <td>100.000000</td>\n",
              "      <td>-</td>\n",
              "    </tr>\n",
              "  </tbody>\n",
              "</table>\n",
              "</div>"
            ],
            "text/plain": [
              "       Frequência  Frequência relativa (%) Frequência acumulada (%)\n",
              "4.9             2                 2.564103                   2.5641\n",
              "5.0             1                 1.282051                  3.84615\n",
              "5.2             1                 1.282051                  5.12821\n",
              "5.3             1                 1.282051                  6.41026\n",
              "5.4             6                 7.692308                  14.1026\n",
              "5.5             4                 5.128205                  19.2308\n",
              "5.6             7                 8.974359                  28.2051\n",
              "5.7             5                 6.410256                  34.6154\n",
              "5.8            13                16.666667                  51.2821\n",
              "5.9             6                 7.692308                  58.9744\n",
              "6.0             5                 6.410256                  65.3846\n",
              "6.1             3                 3.846154                  69.2308\n",
              "6.2             5                 6.410256                   75.641\n",
              "6.3             5                 6.410256                  82.0513\n",
              "6.4             5                 6.410256                  88.4615\n",
              "6.5             3                 3.846154                  92.3077\n",
              "6.6             2                 2.564103                  94.8718\n",
              "6.7             2                 2.564103                  97.4359\n",
              "6.8             2                 2.564103                      100\n",
              "Total          78               100.000000                        -"
            ]
          },
          "metadata": {
            "tags": []
          },
          "execution_count": 7
        }
      ]
    },
    {
      "cell_type": "code",
      "metadata": {
        "id": "X_yY6qw_p4mK",
        "colab": {
          "base_uri": "https://localhost:8080/",
          "height": 700
        },
        "outputId": "3b9943a1-64d1-4aae-8aaf-c262e770c911"
      },
      "source": [
        "a7=pd.DataFrame(dados[\"V7\"].value_counts().sort_index())\n",
        "a7.rename(columns={'V7':'Frequência'},inplace=True)\n",
        "a7['Frequência relativa (%)'] = a7['Frequência']\n",
        "total=sum(a7['Frequência'])\n",
        "total\n",
        "a7['Frequência relativa (%)']=(a7['Frequência']*100)/total\n",
        "a7['Frequência acumulada (%)']=a7['Frequência relativa (%)'].cumsum()\n",
        "a7.to_excel(\"Tabela_de_frequecia_V7.xlsx\")\n",
        "p7=sum(a7['Frequência relativa (%)'])\n",
        "a7.loc[\"Total\"]=[total,p7,\"-\"]\n",
        "a7"
      ],
      "execution_count": 8,
      "outputs": [
        {
          "output_type": "execute_result",
          "data": {
            "text/html": [
              "<div>\n",
              "<style scoped>\n",
              "    .dataframe tbody tr th:only-of-type {\n",
              "        vertical-align: middle;\n",
              "    }\n",
              "\n",
              "    .dataframe tbody tr th {\n",
              "        vertical-align: top;\n",
              "    }\n",
              "\n",
              "    .dataframe thead th {\n",
              "        text-align: right;\n",
              "    }\n",
              "</style>\n",
              "<table border=\"1\" class=\"dataframe\">\n",
              "  <thead>\n",
              "    <tr style=\"text-align: right;\">\n",
              "      <th></th>\n",
              "      <th>Frequência</th>\n",
              "      <th>Frequência relativa (%)</th>\n",
              "      <th>Frequência acumulada (%)</th>\n",
              "    </tr>\n",
              "  </thead>\n",
              "  <tbody>\n",
              "    <tr>\n",
              "      <th>3.7</th>\n",
              "      <td>3</td>\n",
              "      <td>3.846154</td>\n",
              "      <td>3.84615</td>\n",
              "    </tr>\n",
              "    <tr>\n",
              "      <th>3.9</th>\n",
              "      <td>2</td>\n",
              "      <td>2.564103</td>\n",
              "      <td>6.41026</td>\n",
              "    </tr>\n",
              "    <tr>\n",
              "      <th>4.0</th>\n",
              "      <td>2</td>\n",
              "      <td>2.564103</td>\n",
              "      <td>8.97436</td>\n",
              "    </tr>\n",
              "    <tr>\n",
              "      <th>4.1</th>\n",
              "      <td>6</td>\n",
              "      <td>7.692308</td>\n",
              "      <td>16.6667</td>\n",
              "    </tr>\n",
              "    <tr>\n",
              "      <th>4.2</th>\n",
              "      <td>5</td>\n",
              "      <td>6.410256</td>\n",
              "      <td>23.0769</td>\n",
              "    </tr>\n",
              "    <tr>\n",
              "      <th>4.3</th>\n",
              "      <td>6</td>\n",
              "      <td>7.692308</td>\n",
              "      <td>30.7692</td>\n",
              "    </tr>\n",
              "    <tr>\n",
              "      <th>4.4</th>\n",
              "      <td>8</td>\n",
              "      <td>10.256410</td>\n",
              "      <td>41.0256</td>\n",
              "    </tr>\n",
              "    <tr>\n",
              "      <th>4.5</th>\n",
              "      <td>3</td>\n",
              "      <td>3.846154</td>\n",
              "      <td>44.8718</td>\n",
              "    </tr>\n",
              "    <tr>\n",
              "      <th>4.6</th>\n",
              "      <td>7</td>\n",
              "      <td>8.974359</td>\n",
              "      <td>53.8462</td>\n",
              "    </tr>\n",
              "    <tr>\n",
              "      <th>4.7</th>\n",
              "      <td>6</td>\n",
              "      <td>7.692308</td>\n",
              "      <td>61.5385</td>\n",
              "    </tr>\n",
              "    <tr>\n",
              "      <th>4.8</th>\n",
              "      <td>3</td>\n",
              "      <td>3.846154</td>\n",
              "      <td>65.3846</td>\n",
              "    </tr>\n",
              "    <tr>\n",
              "      <th>4.9</th>\n",
              "      <td>3</td>\n",
              "      <td>3.846154</td>\n",
              "      <td>69.2308</td>\n",
              "    </tr>\n",
              "    <tr>\n",
              "      <th>5.0</th>\n",
              "      <td>7</td>\n",
              "      <td>8.974359</td>\n",
              "      <td>78.2051</td>\n",
              "    </tr>\n",
              "    <tr>\n",
              "      <th>5.1</th>\n",
              "      <td>3</td>\n",
              "      <td>3.846154</td>\n",
              "      <td>82.0513</td>\n",
              "    </tr>\n",
              "    <tr>\n",
              "      <th>5.2</th>\n",
              "      <td>1</td>\n",
              "      <td>1.282051</td>\n",
              "      <td>83.3333</td>\n",
              "    </tr>\n",
              "    <tr>\n",
              "      <th>5.3</th>\n",
              "      <td>5</td>\n",
              "      <td>6.410256</td>\n",
              "      <td>89.7436</td>\n",
              "    </tr>\n",
              "    <tr>\n",
              "      <th>5.4</th>\n",
              "      <td>1</td>\n",
              "      <td>1.282051</td>\n",
              "      <td>91.0256</td>\n",
              "    </tr>\n",
              "    <tr>\n",
              "      <th>5.5</th>\n",
              "      <td>3</td>\n",
              "      <td>3.846154</td>\n",
              "      <td>94.8718</td>\n",
              "    </tr>\n",
              "    <tr>\n",
              "      <th>5.6</th>\n",
              "      <td>2</td>\n",
              "      <td>2.564103</td>\n",
              "      <td>97.4359</td>\n",
              "    </tr>\n",
              "    <tr>\n",
              "      <th>5.7</th>\n",
              "      <td>2</td>\n",
              "      <td>2.564103</td>\n",
              "      <td>100</td>\n",
              "    </tr>\n",
              "    <tr>\n",
              "      <th>Total</th>\n",
              "      <td>78</td>\n",
              "      <td>100.000000</td>\n",
              "      <td>-</td>\n",
              "    </tr>\n",
              "  </tbody>\n",
              "</table>\n",
              "</div>"
            ],
            "text/plain": [
              "       Frequência  Frequência relativa (%) Frequência acumulada (%)\n",
              "3.7             3                 3.846154                  3.84615\n",
              "3.9             2                 2.564103                  6.41026\n",
              "4.0             2                 2.564103                  8.97436\n",
              "4.1             6                 7.692308                  16.6667\n",
              "4.2             5                 6.410256                  23.0769\n",
              "4.3             6                 7.692308                  30.7692\n",
              "4.4             8                10.256410                  41.0256\n",
              "4.5             3                 3.846154                  44.8718\n",
              "4.6             7                 8.974359                  53.8462\n",
              "4.7             6                 7.692308                  61.5385\n",
              "4.8             3                 3.846154                  65.3846\n",
              "4.9             3                 3.846154                  69.2308\n",
              "5.0             7                 8.974359                  78.2051\n",
              "5.1             3                 3.846154                  82.0513\n",
              "5.2             1                 1.282051                  83.3333\n",
              "5.3             5                 6.410256                  89.7436\n",
              "5.4             1                 1.282051                  91.0256\n",
              "5.5             3                 3.846154                  94.8718\n",
              "5.6             2                 2.564103                  97.4359\n",
              "5.7             2                 2.564103                      100\n",
              "Total          78               100.000000                        -"
            ]
          },
          "metadata": {
            "tags": []
          },
          "execution_count": 8
        }
      ]
    },
    {
      "cell_type": "code",
      "metadata": {
        "id": "E_RrcMMghLwd",
        "colab": {
          "base_uri": "https://localhost:8080/",
          "height": 282
        },
        "outputId": "3c0b505c-79cd-4a2f-e46e-c9e7b08845c6"
      },
      "source": [
        "dados[\"V6\"].hist()"
      ],
      "execution_count": 9,
      "outputs": [
        {
          "output_type": "execute_result",
          "data": {
            "text/plain": [
              "<matplotlib.axes._subplots.AxesSubplot at 0x7f760fb22f10>"
            ]
          },
          "metadata": {
            "tags": []
          },
          "execution_count": 9
        },
        {
          "output_type": "display_data",
          "data": {
            "image/png": "[encoded data removed]",
            "text/plain": [
              "<Figure size 432x288 with 1 Axes>"
            ]
          },
          "metadata": {
            "tags": [],
            "needs_background": "light"
          }
        }
      ]
    },
    {
      "cell_type": "code",
      "metadata": {
        "id": "1XttgrJxiGZY",
        "colab": {
          "base_uri": "https://localhost:8080/",
          "height": 332
        },
        "outputId": "d4e6daf7-ceeb-4643-82ba-f75b897736d2"
      },
      "source": [
        "valores = [\"V6\",\"V7\"]\n",
        "dados[valores].hist()"
      ],
      "execution_count": 10,
      "outputs": [
        {
          "output_type": "execute_result",
          "data": {
            "text/plain": [
              "array([[<matplotlib.axes._subplots.AxesSubplot object at 0x7f760fa0ea10>,\n",
              "        <matplotlib.axes._subplots.AxesSubplot object at 0x7f760f57df10>]],\n",
              "      dtype=object)"
            ]
          },
          "metadata": {
            "tags": []
          },
          "execution_count": 10
        },
        {
          "output_type": "display_data",
          "data": {
            "image/png": "[encoded data removed]",
            "text/plain": [
              "<Figure size 432x288 with 2 Axes>"
            ]
          },
          "metadata": {
            "tags": [],
            "needs_background": "light"
          }
        }
      ]
    },
    {
      "cell_type": "code",
      "metadata": {
        "id": "NpT49GFMjlSJ",
        "colab": {
          "base_uri": "https://localhost:8080/",
          "height": 282
        },
        "outputId": "7e27ff13-42cf-40b9-8647-5fb06ec1ac17"
      },
      "source": [
        "valores = [\"V6\",\"V7\"]\n",
        "\n",
        "dados[valores].plot.box(grid = True)"
      ],
      "execution_count": 11,
      "outputs": [
        {
          "output_type": "execute_result",
          "data": {
            "text/plain": [
              "<matplotlib.axes._subplots.AxesSubplot at 0x7f760f48a9d0>"
            ]
          },
          "metadata": {
            "tags": []
          },
          "execution_count": 11
        },
        {
          "output_type": "display_data",
          "data": {
            "image/png": "[encoded data removed]",
            "text/plain": [
              "<Figure size 432x288 with 1 Axes>"
            ]
          },
          "metadata": {
            "tags": [],
            "needs_background": "light"
          }
        }
      ]
    },
    {
      "cell_type": "code",
      "metadata": {
        "id": "kV33A6Ijk7cI",
        "colab": {
          "base_uri": "https://localhost:8080/",
          "height": 297
        },
        "outputId": "5ed94252-5645-4033-8cd1-fda20896bebd"
      },
      "source": [
        "valores = [\"V6\",\"V7\"]\n",
        "\n",
        "dados[valores].describe()"
      ],
      "execution_count": 12,
      "outputs": [
        {
          "output_type": "execute_result",
          "data": {
            "text/html": [
              "<div>\n",
              "<style scoped>\n",
              "    .dataframe tbody tr th:only-of-type {\n",
              "        vertical-align: middle;\n",
              "    }\n",
              "\n",
              "    .dataframe tbody tr th {\n",
              "        vertical-align: top;\n",
              "    }\n",
              "\n",
              "    .dataframe thead th {\n",
              "        text-align: right;\n",
              "    }\n",
              "</style>\n",
              "<table border=\"1\" class=\"dataframe\">\n",
              "  <thead>\n",
              "    <tr style=\"text-align: right;\">\n",
              "      <th></th>\n",
              "      <th>V6</th>\n",
              "      <th>V7</th>\n",
              "    </tr>\n",
              "  </thead>\n",
              "  <tbody>\n",
              "    <tr>\n",
              "      <th>count</th>\n",
              "      <td>78.000000</td>\n",
              "      <td>78.000000</td>\n",
              "    </tr>\n",
              "    <tr>\n",
              "      <th>mean</th>\n",
              "      <td>5.906410</td>\n",
              "      <td>4.653846</td>\n",
              "    </tr>\n",
              "    <tr>\n",
              "      <th>std</th>\n",
              "      <td>0.432252</td>\n",
              "      <td>0.505988</td>\n",
              "    </tr>\n",
              "    <tr>\n",
              "      <th>min</th>\n",
              "      <td>4.900000</td>\n",
              "      <td>3.700000</td>\n",
              "    </tr>\n",
              "    <tr>\n",
              "      <th>25%</th>\n",
              "      <td>5.600000</td>\n",
              "      <td>4.300000</td>\n",
              "    </tr>\n",
              "    <tr>\n",
              "      <th>50%</th>\n",
              "      <td>5.800000</td>\n",
              "      <td>4.600000</td>\n",
              "    </tr>\n",
              "    <tr>\n",
              "      <th>75%</th>\n",
              "      <td>6.200000</td>\n",
              "      <td>5.000000</td>\n",
              "    </tr>\n",
              "    <tr>\n",
              "      <th>max</th>\n",
              "      <td>6.800000</td>\n",
              "      <td>5.700000</td>\n",
              "    </tr>\n",
              "  </tbody>\n",
              "</table>\n",
              "</div>"
            ],
            "text/plain": [
              "              V6         V7\n",
              "count  78.000000  78.000000\n",
              "mean    5.906410   4.653846\n",
              "std     0.432252   0.505988\n",
              "min     4.900000   3.700000\n",
              "25%     5.600000   4.300000\n",
              "50%     5.800000   4.600000\n",
              "75%     6.200000   5.000000\n",
              "max     6.800000   5.700000"
            ]
          },
          "metadata": {
            "tags": []
          },
          "execution_count": 12
        }
      ]
    },
    {
      "cell_type": "code",
      "metadata": {
        "id": "VhNXcVigMGYl",
        "colab": {
          "base_uri": "https://localhost:8080/"
        },
        "outputId": "990a4723-93b2-4be7-f40f-a35ffa173be9"
      },
      "source": [
        "dados[[\"V7\"]].mode()\n",
        "dados[[\"V7\"]].max()-dados[[\"V7\"]].min()\n",
        "dados[[\"V7\"]].var()\n",
        "(dados[[\"V7\"]].std()*100)/dados[[\"V7\"]].mean()"
      ],
      "execution_count": 13,
      "outputs": [
        {
          "output_type": "execute_result",
          "data": {
            "text/plain": [
              "V7    10.872472\n",
              "dtype: float64"
            ]
          },
          "metadata": {
            "tags": []
          },
          "execution_count": 13
        }
      ]
    },
    {
      "cell_type": "code",
      "metadata": {
        "id": "vNATnIrPmofG",
        "colab": {
          "base_uri": "https://localhost:8080/",
          "height": 197
        },
        "outputId": "bd526323-8fbe-4480-d1ce-0f73d4e9a2ff"
      },
      "source": [
        "plt.bar(pd.DataFrame[dados[\"V6\"].value_counts().sort_index()], label = 'Frequência', color = 'r')\n",
        "plt.legend()\n",
        "plt.show()"
      ],
      "execution_count": 14,
      "outputs": [
        {
          "output_type": "error",
          "ename": "TypeError",
          "evalue": "ignored",
          "traceback": [
            "\u001b[0;31m---------------------------------------------------------------------------\u001b[0m",
            "\u001b[0;31mTypeError\u001b[0m                                 Traceback (most recent call last)",
            "\u001b[0;32m<ipython-input-14-e9229f934922>\u001b[0m in \u001b[0;36m<module>\u001b[0;34m()\u001b[0m\n\u001b[0;32m----> 1\u001b[0;31m \u001b[0mplt\u001b[0m\u001b[0;34m.\u001b[0m\u001b[0mbar\u001b[0m\u001b[0;34m(\u001b[0m\u001b[0mpd\u001b[0m\u001b[0;34m.\u001b[0m\u001b[0mDataFrame\u001b[0m\u001b[0;34m[\u001b[0m\u001b[0mdados\u001b[0m\u001b[0;34m[\u001b[0m\u001b[0;34m\"V6\"\u001b[0m\u001b[0;34m]\u001b[0m\u001b[0;34m.\u001b[0m\u001b[0mvalue_counts\u001b[0m\u001b[0;34m(\u001b[0m\u001b[0;34m)\u001b[0m\u001b[0;34m.\u001b[0m\u001b[0msort_index\u001b[0m\u001b[0;34m(\u001b[0m\u001b[0;34m)\u001b[0m\u001b[0;34m]\u001b[0m\u001b[0;34m,\u001b[0m \u001b[0mlabel\u001b[0m \u001b[0;34m=\u001b[0m \u001b[0;34m'Frequência'\u001b[0m\u001b[0;34m,\u001b[0m \u001b[0mcolor\u001b[0m \u001b[0;34m=\u001b[0m \u001b[0;34m'r'\u001b[0m\u001b[0;34m)\u001b[0m\u001b[0;34m\u001b[0m\u001b[0;34m\u001b[0m\u001b[0m\n\u001b[0m\u001b[1;32m      2\u001b[0m \u001b[0mplt\u001b[0m\u001b[0;34m.\u001b[0m\u001b[0mlegend\u001b[0m\u001b[0;34m(\u001b[0m\u001b[0;34m)\u001b[0m\u001b[0;34m\u001b[0m\u001b[0;34m\u001b[0m\u001b[0m\n\u001b[1;32m      3\u001b[0m \u001b[0mplt\u001b[0m\u001b[0;34m.\u001b[0m\u001b[0mshow\u001b[0m\u001b[0;34m(\u001b[0m\u001b[0;34m)\u001b[0m\u001b[0;34m\u001b[0m\u001b[0;34m\u001b[0m\u001b[0m\n",
            "\u001b[0;31mTypeError\u001b[0m: 'type' object is not subscriptable"
          ]
        }
      ]
    },
    {
      "cell_type": "code",
      "metadata": {
        "id": "SxR8PBRNoYBq",
        "colab": {
          "base_uri": "https://localhost:8080/"
        },
        "outputId": "15e00df8-d963-453b-e002-5ef51dc1de98"
      },
      "source": [
        "dados[\"V6\"].value_counts().sort_index()\n"
      ],
      "execution_count": 15,
      "outputs": [
        {
          "output_type": "execute_result",
          "data": {
            "text/plain": [
              "4.9     2\n",
              "5.0     1\n",
              "5.2     1\n",
              "5.3     1\n",
              "5.4     6\n",
              "5.5     4\n",
              "5.6     7\n",
              "5.7     5\n",
              "5.8    13\n",
              "5.9     6\n",
              "6.0     5\n",
              "6.1     3\n",
              "6.2     5\n",
              "6.3     5\n",
              "6.4     5\n",
              "6.5     3\n",
              "6.6     2\n",
              "6.7     2\n",
              "6.8     2\n",
              "Name: V6, dtype: int64"
            ]
          },
          "metadata": {
            "tags": []
          },
          "execution_count": 15
        }
      ]
    },
    {
      "cell_type": "markdown",
      "metadata": {
        "id": "vhyfRfuUdHzc"
      },
      "source": [
        ""
      ]
    }
  ]
}