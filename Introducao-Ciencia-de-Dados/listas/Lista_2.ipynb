{
  "nbformat": 4,
  "nbformat_minor": 0,
  "metadata": {
    "colab": {
      "provenance": [],
      "collapsed_sections": [
        "KBaAZIUbWIVb",
        "CMib1MhKXmLk",
        "pLs7udlgeUqw"
      ]
    },
    "kernelspec": {
      "name": "python3",
      "display_name": "Python 3"
    },
    "language_info": {
      "name": "python"
    }
  },
  "cells": [
    {
      "cell_type": "markdown",
      "metadata": {
        "id": "i4nzT8Hk2y6j"
      },
      "source": [
        "#Lista 2: Um pouco mais sobre dissimilaridades e métricas..."
      ]
    },
    {
      "cell_type": "markdown",
      "metadata": {
        "id": "fOJUqPvI6WH2"
      },
      "source": [
        "## Importante"
      ]
    },
    {
      "cell_type": "markdown",
      "metadata": {
        "id": "o8jhiXIp7HqR"
      },
      "source": [
        "1. Suas respostas podem ser feitas nesse *notebook*, no seu editor de preferência ou à mão (desde que legível). Gere um ``.pdf`` com identificação (nome, matrícula e curso) e faça a submissão na atividade **Lista 2**, do AVA. O PDF gerado deve ser facilmente legível para correção.\n",
        "2. Algumas questões podem acabar demandando um trabalho de investigação. Caso consultem algum material externo, adicionem a fonte em suas respostas\n",
        "3. Havendo dúvidas ou inconsistências, postem no fórum do AVA o quanto antes\n",
        "4. Essa lista vale 10 e todas as questões têm o mesmo peso."
      ]
    },
    {
      "cell_type": "markdown",
      "metadata": {
        "id": "8U9gFifd7HMT"
      },
      "source": [
        "## Grupos"
      ]
    },
    {
      "cell_type": "markdown",
      "metadata": {
        "id": "UxcS3w0_7Ggi"
      },
      "source": [
        "* **Graduação:** grupo de até 3 pessoas\n",
        "* **Pós-Graduação:** individual"
      ]
    },
    {
      "cell_type": "markdown",
      "metadata": {
        "id": "qqe5ZBWT2b-X"
      },
      "source": [
        "## Integrantes do grupo"
      ]
    },
    {
      "cell_type": "markdown",
      "metadata": {
        "id": "OqwCQmTe2RGv"
      },
      "source": [
        "1. **Nome(s):** Gabrielly Barcelos Cariman\n",
        "\n",
        "2. **Matrícula(s):** 2022101409\n",
        "\n",
        "3. **Curso(s):** Engenharia de Computação"
      ]
    },
    {
      "cell_type": "markdown",
      "metadata": {
        "id": "I-z8TQMU3pu2"
      },
      "source": [
        "# Questão 1"
      ]
    },
    {
      "cell_type": "markdown",
      "metadata": {
        "id": "AuWP4-Zz3rx8"
      },
      "source": [
        "Mostre que a distância de *Manhattan* (vide Aula 7) é uma métrica."
      ]
    },
    {
      "cell_type": "markdown",
      "source": [
        "Resposta:\n",
        "\n",
        "Uma métrica é uma função que quantifica a distância ou semelhança entre elementos em um espaço. Uma métrica $d$ em um conjunto $X$ é uma função que atribui um número real não-negativo a cada par de elementos distintos de $X$, satisfazendo as seguintes propriedades:\n",
        "\n",
        "1. **Positividade ou não-negatividade**:\n",
        "   $d(x, y) \\geq 0$ para todos $x, y \\in X$, e $d(x, y) = 0$ se e somente se $x = y$.\n",
        "\n",
        "2. **Simetria**:\n",
        "   $d(x, y) = d(y, x)$ para todos $x, y \\in X$.\n",
        "\n",
        "3. **Desigualdade triangular**:\n",
        "   $d(x, y) \\le d(x, z) + d(z, y)$ para todos $x, y, z \\in X$.\n",
        "\n",
        "A métrica quantifica a distância entre os elementos de um espaço, mas esse espaço não precisa necessariamente representar uma distância física. Por exemplo, pode ser o espaço de soluções de um sistema de equações.\n",
        "\n",
        "\n",
        "A **distância de Manhattan** entre dois pontos $P(x_1, y_1)$ e $Q(x_2, y_2)$ em um plano cartesiano é dada pela soma das diferenças absolutas de suas coordenadas:\n",
        "\n",
        "$d(P, Q) = |x_2 - x_1| + |y_2 - y_1|$\n",
        "\n",
        "\n",
        "Verificando se a distância de Manhattan satisfaz as propriedades fundamentais de uma métrica:\n",
        "\n",
        "1. **Positividade ou não-negatividade**:\n",
        "\n",
        "   A distância de Manhattan é sempre não-negativa, já que é uma soma de valores absolutos. Isto é, para dois pontos $P(x_1, y_1)$ e $Q(x_2, y_2)$, a distância de Manhattan entre eles é dada por:\n",
        "\n",
        "   $d(P, Q) = |x_2 - x_1| + |y_2 - y_1|$\n",
        "\n",
        "   Como todos os valores absolutos são não-negativos, a distância de Manhattan é sempre não-negativa.\n",
        "\n",
        "2. **Simetria**:\n",
        "\n",
        "   A distância de Manhattan entre dois pontos é zero se e somente se os pontos são iguais. Isso significa que se $P = Q$, então $d(P, Q) = 0$. Isso é verdade porque se $P = Q$, então $x_1 = x_2$ e $y_1 = y_2$, e, portanto, $|x_2 - x_1| = 0$ e $|y_2 - y_1| = 0$, resultando em $d(P, Q) = 0$.\n",
        "\n",
        "3. **Desigualdade triangular**:\n",
        "\n",
        "   A desigualdade triangular na distância de Manhattan significa que o caminho direto entre dois pontos é sempre menor ou igual ao caminho através de um terceiro ponto. Isto é, para três pontos $P(x_1, y_1)$, $Q(x_2, y_2)$ e $R(x_3, y_3)$, a desigualdade triangular é dada por:\n",
        "\n",
        "   $d(P, Q) + d(Q, R) \\geq d(P, R)$\n",
        "\n",
        "   Agora, vamos considerar as distâncias entre esses pontos:\n",
        "\n",
        "   - A distância de $P$ para $Q$ é $|x_2 - x_1| + |y_2 - y_1|$.\n",
        "   - A distância de $Q$ para $R$ é $|x_3 - x_2| + |y_3 - y_2|$.\n",
        "   - A distância de $P$ para $R$ é $|x_3 - x_1| + |y_3 - y_1|$.\n",
        "\n",
        "   Precisamos verificar se a desigualdade triangular é satisfeita:\n",
        "\n",
        "   $|x_2 - x_1| + |y_2 - y_1| + |x_3 - x_2| + |y_3 - y_2| \\geq |x_3 - x_1| + |y_3 - y_1|$\n",
        "\n",
        "   Isso é verdade porque a soma das distâncias entre dois pontos é sempre maior ou igual à distância direta entre esses pontos.\n",
        "\n",
        "Portanto, a distância de Manhattan satisfaz todas as propriedades de uma métrica, demonstrando que é de fato uma métrica."
      ],
      "metadata": {
        "id": "1UJJKIK06Tfx"
      }
    },
    {
      "cell_type": "markdown",
      "metadata": {
        "id": "u5e4sBf63ybL"
      },
      "source": [
        "# Questão 2"
      ]
    },
    {
      "cell_type": "markdown",
      "metadata": {
        "id": "dRMJo8Ms3yX_"
      },
      "source": [
        "Mostre que a distância euclidiana (vide Aula 7) é uma métrica.\n",
        "\n",
        "**Dica:** você pode usar a desigualdade de *Cauchy-Schwarz*."
      ]
    },
    {
      "cell_type": "markdown",
      "source": [
        "Resposta:\n",
        "\n",
        "A **distância euclidiana** entre dois pontos $P(x_1, y_1)$ e $Q(x_2, y_2)$ em um plano cartesiano é dada pela seguinte fórmula:\n",
        "\n",
        "$d(P, Q) = \\sqrt{(x_2 - x_1)^2 + (y_2 - y_1)^2}$\n",
        "\n",
        "Essa fórmula corresponde ao comprimento da linha reta (também chamada de segmento de reta) que conecta os pontos $P$ e $Q$.\n",
        "\n",
        "\n",
        "A **desigualdade de Cauchy-Schwarz** descreve a relação entre o produto interno de dois vetores e o comprimento dos vetores.\n",
        "\n",
        "A forma mais comum da desigualdade de Cauchy-Schwarz é a seguinte:\n",
        "\n",
        "Seja $\\mathbf{u}$ e $\\mathbf{v}$ dois vetores em um espaço (como o espaço euclidiano) com produto interno, então:\n",
        "\n",
        "$|\\langle \\mathbf{u}, \\mathbf{v} \\rangle| \\leq \\|\\mathbf{u}\\| \\|\\mathbf{v}\\|$\n",
        "\n",
        "Onde:\n",
        "\n",
        "- $\\langle \\mathbf{u}, \\mathbf{v} \\rangle$ representa o produto interno (ou produto escalar) entre os vetores $\\mathbf{u}$ e $\\mathbf{v}$.\n",
        "- $\\|\\mathbf{u}\\|$ e $\\|\\mathbf{v}\\|$ são as normas (ou magnitudes) dos vetores $\\mathbf{u}$ e $\\mathbf{v}$, respectivamente.\n",
        "\n",
        "Essa desigualdade significa que o produto interno de dois vetores é sempre menor ou igual ao produto dos comprimentos dos vetores. A igualdade ocorre quando os vetores são linearmente dependentes.\n",
        "\n",
        "\n",
        "\n",
        "Para mostrar que a distância euclidiana é uma métrica, precisamos verificar se ela satisfaz as propriedades fundamentais de uma métrica:\n",
        "\n",
        "1. **Positividade ou não-negatividade**:\n",
        "\n",
        "   A distância euclidiana entre dois pontos $P(x_1, y_1)$ e $Q(x_2, y_2)$ é dada por:\n",
        "\n",
        "   $d(P, Q) = \\sqrt{(x_2 - x_1)^2 + (y_2 - y_1)^2}$\n",
        "\n",
        "   Esta expressão é sempre não-negativa, pois é uma raiz quadrada de uma soma de quadrados, e, portanto, $d(P, Q) \\geq 0$.\n",
        "\n",
        "2. **Simetria**:\n",
        "\n",
        "   A distância euclidiana entre dois pontos é zero se e somente se os pontos são iguais. Isto é, se $P = Q$, então $d(P, Q) = 0$. Isso é verdade porque se $P = Q$, então $x_1 = x_2$ e $y_1 = y_2$, o que faz a expressão dentro da raiz quadrada ser zero, resultando em $d(P, Q) = 0$.\n",
        "\n",
        "3. **Desigualdade triangular**:\n",
        "\n",
        "   A desigualdade triangular na distância euclidiana significa que o caminho direto entre dois pontos é sempre menor ou igual ao caminho através de um terceiro ponto. Para três pontos $P(x_1, y_1)$, $Q(x_2, y_2)$ e $R(x_3, y_3)$, a desigualdade triangular é dada por:\n",
        "\n",
        "   $d(P, Q) + d(Q, R) \\geq d(P, R)$\n",
        "\n",
        "   Agora, vamos considerar as distâncias entre esses pontos:\n",
        "\n",
        "   - A distância de $P$ para $Q$ é $\\sqrt{(x_2 - x_1)^2 + (y_2 - y_1)^2}$.\n",
        "   - A distância de $Q$ para $R$ é $\\sqrt{(x_3 - x_2)^2 + (y_3 - y_2)^2}$.\n",
        "   - A distância de $P$ para $R$ é $\\sqrt{(x_3 - x_1)^2 + (y_3 - y_1)^2}$.\n",
        "\n",
        "   Agora, vamos usar a desigualdade de Cauchy-Schwarz para mostrar que a desigualdade triangular é satisfeita:\n",
        "\n",
        "   $\\begin{aligned}\n",
        "   &\\left((x_2 - x_1)^2 + (y_2 - y_1)^2\\right) \\cdot \\left((x_3 - x_2)^2 + (y_3 - y_2)^2\\right) \\\\\n",
        "   &\\geq (x_2 - x_1)(x_3 - x_2) + (y_2 - y_1)(y_3 - y_2) \\\\\n",
        "   &= (x_3 - x_1)^2 + (y_3 - y_1)^2\n",
        "   \\end{aligned}$\n",
        "\n",
        "   Tomando a raiz quadrada de ambos os lados, obtemos:\n",
        "\n",
        "   $\\sqrt{(x_2 - x_1)^2 + (y_2 - y_1)^2} \\cdot \\sqrt{(x_3 - x_2)^2 + (y_3 - y_2)^2} \\geq \\sqrt{(x_3 - x_1)^2 + (y_3 - y_1)^2}$\n",
        "\n",
        "   Portanto, a desigualdade triangular é satisfeita, demonstrando que a distância euclidiana é uma métrica."
      ],
      "metadata": {
        "id": "eztz-ZfpDSW2"
      }
    },
    {
      "cell_type": "markdown",
      "metadata": {
        "id": "_PiKrsM42n45"
      },
      "source": [
        "## Questão 3"
      ]
    },
    {
      "cell_type": "markdown",
      "metadata": {
        "id": "RPaMkMQj7jaZ"
      },
      "source": [
        "Uma função de dissimilaridade comum para comparar *strings* é a distância de edição. Dadas duas *strings* $x$ e $y$ de tamanhos $n$ e $m$ respectivamente, $d(x, y)$ calcula o custo mínimo, em termos de inserções, remoções e substituições, necessário para transformar $x$ em $y$.\n",
        "É possível calcular $d(x, y)$ utilizando programação dinâmica a partir da recorrência descrita a seguir."
      ]
    },
    {
      "cell_type": "markdown",
      "metadata": {
        "id": "2Q1eJrJN7xd6"
      },
      "source": [
        "Se ambas as *strings* são vazias,\n",
        "$$\n",
        "d(\\texttt{''}, \\texttt{''}) =  0.\n",
        "$$"
      ]
    },
    {
      "cell_type": "markdown",
      "metadata": {
        "id": "pHFpREvlA89M"
      },
      "source": [
        "Se a primeira *string* é vazia, mas a segunda não,\n",
        "$$d(\\texttt{''}, y[1, \\dots, j])  =  \\sum_{k = 1}^{j} \\texttt{insert}(y[k]),\\ \\ \\  1 \\le j \\le m.$$"
      ]
    },
    {
      "cell_type": "markdown",
      "metadata": {
        "id": "WvJ534mFBCxr"
      },
      "source": [
        "Se a segunda *string* é vazia mas a primeira não,\n",
        "$$d(x[1, \\dots, i], \\texttt{''})  =  \\sum_{k = 1}^{i} \\texttt{delete}(x[k]),\\ \\ \\  1 \\le i \\le n.$$"
      ]
    },
    {
      "cell_type": "markdown",
      "metadata": {
        "id": "qQy0L5TfB173"
      },
      "source": [
        "Se ambas as *strings* são não vazias e $x_i  =  y_j$,\n",
        "$$d(x[1,\\dots, i], y[1,\\dots, j]) = d(x[1,\\dots, i - 1], y[1,\\dots, j - 1])$$"
      ]
    },
    {
      "cell_type": "markdown",
      "metadata": {
        "id": "ecOwajzwBG4j"
      },
      "source": [
        "Se ambas as *strings* são não vazias e $x_i  \\neq  y_j$,\n",
        "$\n",
        "\\begin{align*}\n",
        "\td(x[1\\dots i], y[1,\\dots, j]) & =  \n",
        "\t\t\\text{min}\n",
        "\t\t\\begin{cases}\n",
        "\t\t\td(x[1,\\dots, i - 1], y[1, \\dots, j]) + \\texttt{delete}(x[i]) \\\\\n",
        "\t\t\td(x[1,\\dots, i], y[1, \\dots, j - 1]) + \\texttt{insert}(y[j])\\\\\n",
        "\t\t\td(x[1,\\dots, i - 1], y[1,\\dots, j - 1]) + \\texttt{substitute}(x[i], y[j])\n",
        "\t\t\\end{cases}\n",
        "\\end{align*}\n",
        "$"
      ]
    },
    {
      "cell_type": "markdown",
      "metadata": {
        "id": "ROAGQIf971YN"
      },
      "source": [
        "Na equação acima, $\\texttt{''}$ é a *string* vazia e $x[1,\\dots, i]$ denota a *substring* de $x$ que consiste dos primeiros $i$ símbolos de $x$.\n",
        "Além disso, para um símbolo $a$, $\\texttt{delete}(a)$ e $\\texttt{insert}(a)$ correspondem respectivamente aos custos (positivos) de remover ou inserir o símbolo $a$.\n",
        "Finalmente, para os símbolos $a$ e $b$, $\\texttt{substitute}(a, b)$ corresponde ao custo (positivos) de substituir o símbolo $a$ pelo símbolo $b$.\n",
        "1. Mostre, através de um exemplo de atribuição de pesos/custos para as operações disponíveis, que no caso geral $d(x, y)$ não é uma métrica.\n",
        "2. Mostre que é possível atribuir custos para as funções $\\texttt{delete}$, $\\texttt{insert}$ e $\\texttt{substitute}$ de forma que $d(x, y)$ seja uma métrica. **Obs:** você deve provar que seu caso específico é de fato uma métrica.\n",
        "\n"
      ]
    },
    {
      "cell_type": "markdown",
      "source": [
        "Resposta:\n",
        "\n",
        "## Parte 1: Mostrando que no caso geral $d(x, y)$ não é uma métrica\n",
        "\n",
        "Para demonstrar que  $d(x,y)$  não é uma métrica no caso geral, podemos escolher uma atribuição de custos que viole a propriedade de desigualdade triangular. Vamos considerar a seguinte atribuição:\n",
        "\n",
        "- $delete(a) = 1$  para qualquer símbolo  $a$ .\n",
        "- $insert(a) = 2$  para qualquer símbolo  $a$ .\n",
        "- $substitute(a,b) = 3$  para quaisquer símbolos  $a$  e  $b$  diferentes.\n",
        "\n",
        "Agora, vamos considerar as strings  $x=\"abc\"$  e  $y=\"\"$ .\n",
        "\n",
        "Calcular  $d(x,y)$ :\n",
        "\n",
        "$$d(x,y) = 1 \\cdot delete(\"a\") + 1 \\cdot delete(\"b\") + 1 \\cdot delete(\"c\") = 3.$$\n",
        "\n",
        "Calcular  $d(y,x)$ :\n",
        "\n",
        "$$d(x,y) = 2 \\cdot insert(\"a\") + 2 \\cdot insert(\"b\") + 2 \\cdot insert(\"c\") = 6.$$\n",
        "\n",
        "Com essa atribuição de custos, temos  $d(x,y) \\neq d(y,x)$, o que viola a propriedade $d(x, y) = d(y, x)$.\n",
        "\n",
        "\n",
        "## Parte 2: Atribuindo custos para tornar $d(x, y)$ uma métrica\n",
        "\n",
        "Para tornar $d(x, y)$ uma métrica, precisamos escolher custos de forma que ela satisfaça as propriedades de uma métrica. Podemos escolher os seguintes custos:\n",
        "\n",
        "- $ \\texttt{delete}(a) = 1 $ para qualquer símbolo $a$.\n",
        "- $ \\texttt{insert}(a) = 1 $ para qualquer símbolo $a$.\n",
        "- $ \\texttt{substitute}(a, b) = 2 $ para quaisquer símbolos $a$ e $b$ diferentes.\n",
        "\n",
        "Agora, vamos demonstrar que com esses custos, a função $d(x, y)$ é de fato uma métrica.\n",
        "\n",
        "### Positividade ou não-negatividade\n",
        "\n",
        "Como todos os custos são positivos, $d(x, y) \\geq 0$ para quaisquer strings $x$ e $y$.\n",
        "\n",
        "### Simetria\n",
        "\n",
        "Se $x = y$, então não há necessidade de fazer nenhuma operação, ou seja, $d(x, y) = 0 \\iff x = y$\n",
        "\n",
        "### Desigualdade triangular\n",
        "\n",
        "Para demonstrar a desigualdade triangular, podemos considerar três strings $x$, $y$ e $z$. Vamos analisar os casos:\n",
        "\n",
        "1. $d(x, y) + d(y, z) \\geq d(x, z)$\n",
        "\n",
        "   Neste caso, estamos somando os custos mínimos para transformar $x$ em $y$ e de $y$ em $z$ para obter um custo mínimo para transformar $x$ em $z$.\n",
        "\n",
        "Agora, vamos considerar as strings $x = \\text{\"abc\"}$, $y = \\text{\"def\"}$ e $z = \\text{\"xyz\"}$.\n",
        "\n",
        "1. Calcular $d(x, y)$:\n",
        "\n",
        "   $d(x, y) = 2 \\cdot \\texttt{substitute}(\\text{\"a\"}, \\text{\"d\"}) + 2 \\cdot \\texttt{substitute}(\\text{\"b\"}, \\text{\"e\"}) + 2 \\cdot \\texttt{substitute}(\\text{\"c\"}, \\text{\"f\"}) = 6$\n",
        "\n",
        "2. Calcular $d(y, z)$:\n",
        "\n",
        "   $d(y, z) = 2 \\cdot \\texttt{substitute}(\\text{\"d\"}, \\text{\"x\"}) + 2 \\cdot \\texttt{substitute}(\\text{\"e\"}, \\text{\"y\"}) + 2 \\cdot \\texttt{substitute}(\\text{\"f\"}, \\text{\"z\"}) = 6$\n",
        "\n",
        "3. Calcular $d(x, z)$:\n",
        "\n",
        "   $d(x, z) = 2 \\cdot \\texttt{substitute}(\\text{\"a\"}, \\text{\"x\"}) + 2 \\cdot \\texttt{substitute}(\\text{\"b\"}, \\text{\"y\"}) + 2 \\cdot \\texttt{substitute}(\\text{\"c\"}, \\text{\"z\"}) = 6$\n",
        "\n",
        "Com essa atribuição de custos, temos $d(x, y) = d(y, z) = d(x, z) = 6$, o que não viola a desigualdade triangular.\n",
        "\n",
        "Portanto, com essa atribuição de custos, a função $d(x, y)$ é de fato uma métrica."
      ],
      "metadata": {
        "id": "rQtV00TeJ8gd"
      }
    },
    {
      "cell_type": "markdown",
      "metadata": {
        "id": "KBaAZIUbWIVb"
      },
      "source": [
        "## Questão 4"
      ]
    },
    {
      "cell_type": "markdown",
      "metadata": {
        "id": "jSkqwVnKXG4G"
      },
      "source": [
        "Sejam $\\mathbf{x}_1, \\dots, \\mathbf{x}_n$ pontos do espaço $d$-dimensional real.\n",
        "Considere a função $f:\\mathbb{R}^d \\rightarrow \\mathbb{R}$ dada por:\n",
        "$$f(c) = \\sum_{i=1}^n\\Vert\\mathbf{x}_i - c\\Vert_1,$$\n",
        "onde $\\Vert\\cdot\\Vert_1$ é a norma $\\ell_1$ de um vetor.\n",
        "Mostre que $f$ é mínima quando $c$ é a mediana de $\\mathbf{x}_1, \\dots, \\mathbf{x}_n$ (Isso significa que $c_j$ é a mediana das $j$-ésimas componentes de ${\\mathbf{x}_{1}}, \\dots, {\\mathbf{x}_{n}}$)."
      ]
    },
    {
      "cell_type": "markdown",
      "source": [
        "Resposta:\n",
        "\n",
        "A mediana de um conjunto de valores é o valor que divide o conjunto em duas partes iguais. Portanto, para a mediana de $\\mathbf{x}_1, \\dots, \\mathbf{x}_n$ temos:\n",
        "\n",
        "Para cada coordenada $j$, a mediana $c_j$ das $j$-ésimas componentes de $\\mathbf{x}_1, \\dots, \\mathbf{x}_n$ é tal que a soma das distâncias da coordenada $j$ de $c_j$ para as coordenadas $j$ de $\\mathbf{x}_1, \\dots, \\mathbf{x}_n$ é a menor possível.\n",
        "\n",
        "Podemos expressar isso matematicamente da seguinte forma:\n",
        "\n",
        "$$\n",
        "f(c) = \\sum_{i=1}^n \\left\\| \\mathbf{x}_i - c \\right\\|_1 = \\sum_{i=1}^n \\sum_{j=1}^d \\left| x_{ij} - c_j \\right|,\n",
        "$$\n",
        "\n",
        "onde $x_{ij}$ é a $j$-ésima componente do $i$-ésimo ponto.\n",
        "\n",
        "Para minimizar $f(c)$, precisamos minimizar cada termo $\\left| x_{ij} - c_j \\right|$ para $i = 1, \\dots, n$ e $j = 1, \\dots, d$.\n",
        "\n",
        "Dado que a mediana minimiza a soma das distâncias absolutas para um conjunto de valores unidimensional, podemos concluir que $c_j$ sendo a mediana das $j$-ésimas componentes de $\\mathbf{x}_1, \\dots, \\mathbf{x}_n$ minimiza $\\sum_{i=1}^n \\left| x_{ij} - c_j \\right|$.\n",
        "\n",
        "Portanto, $f(c)$ é mínima quando $c$ é a mediana de $\\mathbf{x}_1, \\dots, \\mathbf{x}_n$.\n"
      ],
      "metadata": {
        "id": "nIL9jhyg4jQe"
      }
    },
    {
      "cell_type": "markdown",
      "metadata": {
        "id": "CMib1MhKXmLk"
      },
      "source": [
        "## Questão 5"
      ]
    },
    {
      "cell_type": "markdown",
      "metadata": {
        "id": "G-4TZWgXXovs"
      },
      "source": [
        "Sejam $\\mathbf{x}_1, \\dots, \\mathbf{x}_n$ pontos do espaço $d$-dimensional real.\n",
        "Considere a função $f:\\mathbb{R}^d \\rightarrow \\mathbb{R}$ dada por:\n",
        "$$f(c) = \\sum_{i=1}^n\\Vert\\mathbf{x}_i - c\\Vert_2^2,$$\n",
        "onde $\\Vert \\cdot\\Vert_2$ é a norma $\\ell_2$ de um vetor e $\\Vert\\cdot\\Vert_2^2$ é a norma $\\ell_2$ de um vetor elevada ao quadrado.\n",
        "Mostre que $f$ é mínima quando $c$ é a média de $\\mathbf{x}_1, \\dots, \\mathbf{x}_n$ (Isso significa que $c_j$ é a média das $j$-ésimas componentes de ${\\mathbf{x}_{1}}, \\dots, {\\mathbf{x}_{n}}$)."
      ]
    },
    {
      "cell_type": "markdown",
      "source": [
        "Resposta:\n",
        "\n",
        "A função $f(c)$ é dada por:\n",
        "\n",
        "$$f(c) = \\sum_{i=1}^n \\lVert \\mathbf{x}_i - c \\rVert_2^2$$\n",
        "\n",
        "A norma $\\ell_2$ de um vetor é dada por $\\lVert \\mathbf{v} \\rVert_2 = \\sqrt{\\sum_{i=1}^d v_i^2}$, e a norma $\\ell_2$ ao quadrado é $\\lVert \\mathbf{v} \\rVert_2^2 = \\sum_{i=1}^d v_i^2$. Portanto, podemos reescrever a função $f(c)$ como:\n",
        "\n",
        "$$f(c) = \\sum_{i=1}^n \\sum_{j=1}^d (x_{ij} - c_j)^2$$\n",
        "\n",
        "Agora, para minimizar $f(c)$, derivamos $f(c)$ em relação a $c_j$ para cada coordenada $j$ e igualamos a zero:\n",
        "\n",
        "$$\\frac{\\partial f(c)}{\\partial c_j} = -2 \\sum_{i=1}^n (x_{ij} - c_j) = 0$$\n",
        "\n",
        "Isolando $c_j$, obtemos:\n",
        "\n",
        "$$c_j = \\frac{1}{n} \\sum_{i=1}^n x_{ij}$$\n",
        "\n",
        "Ou seja, $c_j$ é a média das $j$-ésimas componentes de $\\mathbf{x}_1, \\dots, \\mathbf{x}_n$, o que mostra que $c$ é a média dos pontos $\\mathbf{x}_1, \\dots, \\mathbf{x}_n$.\n",
        "\n",
        "Portanto, concluímos que $f(c)$ é mínima quando $c$ é a média dos pontos $\\mathbf{x}_1, \\dots, \\mathbf{x}_n$, como desejado.\n"
      ],
      "metadata": {
        "id": "JKHQdiRk5nUZ"
      }
    },
    {
      "cell_type": "markdown",
      "metadata": {
        "id": "pLs7udlgeUqw"
      },
      "source": [
        "## Questão 6"
      ]
    },
    {
      "cell_type": "markdown",
      "metadata": {
        "id": "qBREvt6ceUeH"
      },
      "source": [
        "Essa questão é **obrigatória** apenas para alunos da **pós-graduação**.\n",
        "\n",
        "Esse exercício é sobre a distância generalizada de Jaccard (uma versão mais geral da distância de Jaccard que vimos em sala).\n",
        "O objetivo será fazer uma leitura de um artigo científico e responder algumas perguntas sobre ele. Baixe e leia o artigo *Simple and Efficient Weighted Minwise Hashing*, disponível em https://goo.gl/hqYrFG.\n",
        "As seções necessárias para essa questão são: Seção 1, Seção 3.1, Seção 3.2, Seção 3.3, Seção 4 e Seção 5. Após ler tais seções, faça o que se pede a seguir:\n",
        "1. Explique como funciona a metologia proposta. Em outras palavras, comente o Algoritmo 3 do artigo\n",
        "2. Prove o Teorema 1 da Seção 3.2 (**dica:** leia e se baseie no material suplementar do artigo)\n",
        "3. Prove os resultados dados na Equação (7) do artigo (**dica:** leia sobre variáveis com distribuição de *Bernoulli*)\n",
        "4. Prove as duas primeiras partes do Teorema 2, i.e., o valor esperado e a variância de $h(x)$ (**dica:** leia e estenda o argumento apresentado no material suplementar do artigo)\n",
        "5. Explique qual a conclusão que pode ser tirada ao analisar a Figura 2 do artigo\n",
        "6. A Seção 5 discute problemas que podem acontecer com relação a eficiência do algoritmo num caso especial. Discuta o problema e qual a solução que está sendo proposta"
      ]
    }
  ]
}